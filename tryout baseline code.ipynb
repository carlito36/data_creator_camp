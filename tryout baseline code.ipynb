{
  "nbformat": 4,
  "nbformat_minor": 0,
  "metadata": {
    "accelerator": "GPU",
    "colab": {
      "provenance": [],
      "collapsed_sections": []
    },
    "kernelspec": {
      "name": "python3",
      "display_name": "Python 3"
    },
    "toc": {
      "base_numbering": 1,
      "nav_menu": {},
      "number_sections": true,
      "sideBar": true,
      "skip_h1_title": false,
      "title_cell": "Table of Contents",
      "title_sidebar": "Contents",
      "toc_cell": false,
      "toc_position": {},
      "toc_section_display": true,
      "toc_window_display": false
    },
    "varInspector": {
      "cols": {
        "lenName": 16,
        "lenType": 16,
        "lenVar": 40
      },
      "kernels_config": {
        "python": {
          "delete_cmd_postfix": "",
          "delete_cmd_prefix": "del ",
          "library": "var_list.py",
          "varRefreshCmd": "print(var_dic_list())"
        },
        "r": {
          "delete_cmd_postfix": ") ",
          "delete_cmd_prefix": "rm(",
          "library": "var_list.r",
          "varRefreshCmd": "cat(var_dic_list()) "
        }
      },
      "types_to_exclude": [
        "module",
        "function",
        "builtin_function_or_method",
        "instance",
        "_Feature"
      ],
      "window_display": false
    }
  },
  "cells": [
    {
      "cell_type": "markdown",
      "metadata": {
        "id": "PJ-CsrTE4dBd"
      },
      "source": [
        "*시작 전, 상단 메뉴 '파일' > '드라이브에 사본 저장' 을 선택하여 사본을 가지고 작업을 진행해주시기 바랍니다.*  "
      ]
    },
    {
      "cell_type": "markdown",
      "metadata": {
        "id": "1e_y7BRTlgaI"
      },
      "source": [
        "# 공지\n",
        "- Dataset: https://drive.google.com/file/d/1Ow7u1i--_qHkmcBW8mo4xW3MBodwhxVm/view?usp=sharing\n",
        "- csv 파일 제출: dcc2021.clustering@gmail.com (발표 자료는 다른 곳으로 제출하셔야 합니다!!!)\n",
        "- 리더 보드: https://github.com/High-East/DCC-6-Leader-Board\n",
        "- 총 제출 횟수는 ***20번*** 입니다.\n",
        "- 이메일 보낸 시간을 기준으로, 대회 종료 시각인 ***PM 4:20*** 까지 제출하신 것까지만 인정합니다.\n",
        "- 평가 지표는 ARI를 사용하고 있습니다. [-1, 1] 사이의 값을 가지며, 1에 가까울수록 높은 성능입니다.\n"
      ]
    },
    {
      "cell_type": "markdown",
      "metadata": {
        "id": "7pIKXpa46Es3"
      },
      "source": [
        "# 문제\n",
        "> Q. 2030년, 드디어 인공지능이 탑재된 로봇이 실생활에서 적용되기 시작했습니다. 과일 가게에서 일하는 로봇 \"Apple\"이 있습니다. \"Apple\"은 트럭에서 과일을 가게로 운반하는 일을 하는 하고 있습니다. \"Apple\"이 같은 종류의 과일을 같은 곳에 쌓을 수 있기 위해서는, 군집을 도와주는 알고리즘이 필요합니다. 로봇이 사고를 치지 않도록 군집 알고리즘을 만들어보세요!"
      ]
    },
    {
      "cell_type": "markdown",
      "metadata": {
        "id": "Ta6WD2Ue6PEA"
      },
      "source": [
        "# 데이터 설명\n",
        "훈련 데이터(Train Data): 4,035개의 레이블이 없는 과일 이미지 데이터  \n",
        "평가 데이터(Test Data): 훈련 데이터와 동일  \n",
        "피쳐 설명(Feature): (100, 100) 크기의 컬러 사진  \n",
        "목표: 가장 적합한 군집의 개수를 찾고, 높은 군집 정확도 얻기  "
      ]
    },
    {
      "cell_type": "markdown",
      "metadata": {
        "id": "w8l_7_CzsxTv"
      },
      "source": [
        "# 구글 드라이브 마운트"
      ]
    },
    {
      "cell_type": "code",
      "metadata": {
        "id": "i2tvNRRIn1Cf",
        "colab": {
          "base_uri": "https://localhost:8080/"
        },
        "outputId": "d308bdfc-99e5-44bd-8fe6-724a2971b70a"
      },
      "source": [
        "# 구글 드라이브를 마운트합니다.\n",
        "from google.colab import drive\n",
        "drive.mount('/content/gdrive', force_remount=True)"
      ],
      "execution_count": null,
      "outputs": [
        {
          "output_type": "stream",
          "name": "stdout",
          "text": [
            "Mounted at /content/gdrive\n"
          ]
        }
      ]
    },
    {
      "cell_type": "code",
      "metadata": {
        "id": "02H2I5OpSBuS"
      },
      "source": [
        "# 폴더 이동\n",
        "import os\n",
        "ROOT = '/content/gdrive/MyDrive'  # 변경하지 마세요. 단, MyDrive가 오류난다면, My\\ Drive로 적으세요.\n",
        "DIR = '데이터캠프'  # 데이터와 ipynb파일이 있는 위치를 적으세요.\n",
        "\n",
        "PATH = os.path.join(ROOT, DIR)\n",
        "os.chdir(PATH)"
      ],
      "execution_count": null,
      "outputs": []
    },
    {
      "cell_type": "code",
      "metadata": {
        "id": "OSJybjB4WT-Y"
      },
      "source": [
        "# 할당 받은 GPU 확인\n",
        "!nvidia-smi"
      ],
      "execution_count": null,
      "outputs": []
    },
    {
      "cell_type": "markdown",
      "metadata": {
        "id": "alPRbetAZ2Y5"
      },
      "source": [
        "# 패키지 임포트"
      ]
    },
    {
      "cell_type": "code",
      "metadata": {
        "ExecuteTime": {
          "end_time": "2020-09-24T13:02:15.110506Z",
          "start_time": "2020-09-24T13:02:15.038366Z"
        },
        "colab": {
          "base_uri": "https://localhost:8080/"
        },
        "id": "y4L2JTQvZ2Y6",
        "outputId": "233be12e-998d-42f7-a73b-f939dbe285f5"
      },
      "source": [
        "from datetime import datetime\n",
        "import numpy as np\n",
        "import pandas as pd\n",
        "import tensorflow as tf\n",
        "from tensorflow.keras import models, layers, activations\n",
        "from tensorflow.keras import optimizers\n",
        "from sklearn.cluster import KMeans\n",
        "\n",
        "import cv2\n",
        "import matplotlib.pyplot as plt\n",
        "from scipy.spatial.distance import cdist\n",
        "import ipywidgets as widgets\n",
        "from ipywidgets import interact\n",
        "\n",
        "print(f\"tensorflow version: {tf.__version__}\")\n",
        "print(f\"keras version: {tf.keras.__version__}\")"
      ],
      "execution_count": null,
      "outputs": [
        {
          "output_type": "stream",
          "name": "stdout",
          "text": [
            "tensorflow version: 2.6.0\n",
            "keras version: 2.6.0\n"
          ]
        }
      ]
    },
    {
      "cell_type": "markdown",
      "metadata": {
        "id": "BtODoU1zZ2Y7"
      },
      "source": [
        "# 커스텀 함수 정의"
      ]
    },
    {
      "cell_type": "code",
      "metadata": {
        "ExecuteTime": {
          "end_time": "2020-09-24T13:03:22.326964Z",
          "start_time": "2020-09-24T13:03:22.320821Z"
        },
        "id": "0HwpuGqAZ2Y7"
      },
      "source": [
        "# Visualization function\n",
        "def show_img(dataset, predict, idx):\n",
        "    fig = plt.figure()\n",
        "    ax1 = fig.add_subplot(1, 2, 1)\n",
        "    ax1.imshow(cv2.cvtColor(dataset[idx], cv2.COLOR_BGR2RGB))\n",
        "    ax1.set_title(\"Raw image\")\n",
        "    ax2 = fig.add_subplot(1, 2, 2)\n",
        "    ax2.imshow(cv2.cvtColor(predict[idx], cv2.COLOR_BGR2RGB))\n",
        "    ax2.set_title(\"Reconstructed image\")\n",
        "    plt.show()\n",
        "\n",
        "\n",
        "# Elbow method\n",
        "def elbow_method(X, a, b):\n",
        "    sse = []\n",
        "    for i in range(a, b + 1):\n",
        "        km = KMeans(n_clusters=i, init='k-means++', random_state=1207)\n",
        "        km.fit(X)\n",
        "        sse.append(km.inertia_)\n",
        "    plt.figure(figsize=(8,6))\n",
        "    plt.plot(range(a, b + 1), sse, marker='o', c='black')\n",
        "    plt.xlabel(\"Number of clusters\", fontsize=12)\n",
        "    plt.ylabel(\"SSE\", fontsize=12)\n",
        "    plt.title(\"Elbow method\", fontsize=15)\n",
        "    plt.grid(linestyle='--')\n",
        "    plt.show()"
      ],
      "execution_count": null,
      "outputs": []
    },
    {
      "cell_type": "markdown",
      "metadata": {
        "id": "dCIweDyBst3X"
      },
      "source": [
        "# 데이터 로드"
      ]
    },
    {
      "cell_type": "code",
      "metadata": {
        "colab": {
          "base_uri": "https://localhost:8080/"
        },
        "id": "ql8-57JAaVVs",
        "outputId": "8dc036c4-447d-4abd-f5ba-56760a03b5e6"
      },
      "source": [
        "# 데이터 로드\n",
        "path = \"dataset.npy\"\n",
        "dataset = np.load(path)\n",
        "dataset = np.float32(dataset / 255)  # 데이터 정규화\n",
        "\n",
        "# 데이터 shape 확인\n",
        "print(f\"dataset shape: {dataset.shape}\")"
      ],
      "execution_count": null,
      "outputs": [
        {
          "output_type": "stream",
          "name": "stdout",
          "text": [
            "dataset shape: (4035, 100, 100, 3)\n"
          ]
        }
      ]
    },
    {
      "cell_type": "code",
      "metadata": {
        "ExecuteTime": {
          "end_time": "2020-09-24T13:02:23.706891Z",
          "start_time": "2020-09-24T13:02:23.560367Z"
        },
        "colab": {
          "base_uri": "https://localhost:8080/",
          "height": 248
        },
        "id": "76ASrh38Z2Y8",
        "outputId": "d90ebb75-da7e-4c6b-c75f-a78459415397"
      },
      "source": [
        "# 이미지 확인\n",
        "idx = 10\n",
        "plt.imshow(cv2.cvtColor(dataset[idx], cv2.COLOR_BGR2RGB))\n",
        "plt.tick_params(left=False, labelleft=False, bottom=False, labelbottom=False)\n",
        "plt.show()"
      ],
      "execution_count": null,
      "outputs": [
        {
          "output_type": "display_data",
          "data": {
            "image/png": "[encoded data removed]",
            "text/plain": [
              "<Figure size 432x288 with 1 Axes>"
            ]
          },
          "metadata": {}
        }
      ]
    },
    {
      "cell_type": "markdown",
      "metadata": {
        "id": "ZGEuRXsDbGzT"
      },
      "source": [
        "# 차원 축소\n",
        "- PCA와 같은 다른 차원 축소 기법을 사용해도 괜찮습니다."
      ]
    },
    {
      "cell_type": "markdown",
      "metadata": {
        "id": "jyow1xVZbJB1"
      },
      "source": [
        "## 오토인코더"
      ]
    },
    {
      "cell_type": "code",
      "metadata": {
        "colab": {
          "base_uri": "https://localhost:8080/"
        },
        "id": "6CGfM7TGbOi_",
        "outputId": "969b90aa-1840-40b9-f71e-fd0765682ff1"
      },
      "source": [
        "# 인코더\n",
        "encoder = models.Sequential([\n",
        "          layers.InputLayer(input_shape=(100, 100, 3)),\n",
        "          layers.Conv2D(filters=32, kernel_size=3, strides=2, padding=\"same\"),\n",
        "          layers.BatchNormalization(),\n",
        "          layers.ReLU(),\n",
        "          layers.Conv2D(filters=64, kernel_size=3, strides=2, padding=\"same\"),\n",
        "          layers.BatchNormalization(),\n",
        "          layers.ReLU(),\n",
        "          layers.Flatten(),\n",
        "          layers.Dense(units=128, activation='relu')\n",
        "          ],\n",
        "          name='Encoder')\n",
        "\n",
        "# 모델 구조 시각화\n",
        "encoder.summary()"
      ],
      "execution_count": null,
      "outputs": [
        {
          "output_type": "stream",
          "name": "stdout",
          "text": [
            "Model: \"Encoder\"\n",
            "_________________________________________________________________\n",
            "Layer (type)                 Output Shape              Param #   \n",
            "=================================================================\n",
            "conv2d (Conv2D)              (None, 50, 50, 32)        896       \n",
            "_________________________________________________________________\n",
            "batch_normalization (BatchNo (None, 50, 50, 32)        128       \n",
            "_________________________________________________________________\n",
            "re_lu (ReLU)                 (None, 50, 50, 32)        0         \n",
            "_________________________________________________________________\n",
            "conv2d_1 (Conv2D)            (None, 25, 25, 64)        18496     \n",
            "_________________________________________________________________\n",
            "batch_normalization_1 (Batch (None, 25, 25, 64)        256       \n",
            "_________________________________________________________________\n",
            "re_lu_1 (ReLU)               (None, 25, 25, 64)        0         \n",
            "_________________________________________________________________\n",
            "flatten (Flatten)            (None, 40000)             0         \n",
            "_________________________________________________________________\n",
            "dense (Dense)                (None, 128)               5120128   \n",
            "=================================================================\n",
            "Total params: 5,139,904\n",
            "Trainable params: 5,139,712\n",
            "Non-trainable params: 192\n",
            "_________________________________________________________________\n"
          ]
        }
      ]
    },
    {
      "cell_type": "code",
      "metadata": {
        "ExecuteTime": {
          "end_time": "2020-09-24T12:59:20.625388Z",
          "start_time": "2020-09-24T12:59:20.538373Z"
        },
        "colab": {
          "base_uri": "https://localhost:8080/"
        },
        "id": "-dikyy3lZ2Y_",
        "outputId": "9c131213-7142-47fb-e04b-c1fcdcfea9c3"
      },
      "source": [
        "# 디코더\n",
        "decoder = models.Sequential([\n",
        "          layers.InputLayer(input_shape=(128)),  # 인코더의 마지막 output shape을 입력하세요.\n",
        "          layers.Dense(units=5000, activation='relu'),\n",
        "          layers.Reshape(target_shape=(25, 25, 8)),\n",
        "          layers.Conv2DTranspose(filters=64, kernel_size=3, strides=2, padding=\"same\"),\n",
        "          layers.BatchNormalization(),\n",
        "          layers.ReLU(),\n",
        "          layers.Conv2DTranspose(filters=32, kernel_size=3, strides=2, padding=\"same\"),\n",
        "          layers.BatchNormalization(),\n",
        "          layers.ReLU(),\n",
        "          layers.Conv2D(filters=3, kernel_size=1, strides=1, activation='tanh'),\n",
        "         ],\n",
        "          name='Decoder')\n",
        "\n",
        "# 모델 구조 시각화\n",
        "decoder.summary()"
      ],
      "execution_count": null,
      "outputs": [
        {
          "output_type": "stream",
          "name": "stdout",
          "text": [
            "Model: \"Decoder\"\n",
            "_________________________________________________________________\n",
            "Layer (type)                 Output Shape              Param #   \n",
            "=================================================================\n",
            "dense_1 (Dense)              (None, 5000)              645000    \n",
            "_________________________________________________________________\n",
            "reshape (Reshape)            (None, 25, 25, 8)         0         \n",
            "_________________________________________________________________\n",
            "conv2d_transpose (Conv2DTran (None, 50, 50, 64)        4672      \n",
            "_________________________________________________________________\n",
            "batch_normalization_2 (Batch (None, 50, 50, 64)        256       \n",
            "_________________________________________________________________\n",
            "re_lu_2 (ReLU)               (None, 50, 50, 64)        0         \n",
            "_________________________________________________________________\n",
            "conv2d_transpose_1 (Conv2DTr (None, 100, 100, 32)      18464     \n",
            "_________________________________________________________________\n",
            "batch_normalization_3 (Batch (None, 100, 100, 32)      128       \n",
            "_________________________________________________________________\n",
            "re_lu_3 (ReLU)               (None, 100, 100, 32)      0         \n",
            "_________________________________________________________________\n",
            "conv2d_2 (Conv2D)            (None, 100, 100, 3)       99        \n",
            "=================================================================\n",
            "Total params: 668,619\n",
            "Trainable params: 668,427\n",
            "Non-trainable params: 192\n",
            "_________________________________________________________________\n"
          ]
        }
      ]
    },
    {
      "cell_type": "code",
      "metadata": {
        "ExecuteTime": {
          "end_time": "2020-09-24T12:59:24.178525Z",
          "start_time": "2020-09-24T12:59:24.131861Z"
        },
        "id": "vO556_UtZ2Y_"
      },
      "source": [
        "# 오토인코더: 인코더 + 디코더 구조\n",
        "autoencoder = models.Sequential([\n",
        "              layers.InputLayer(input_shape=(100, 100, 3), name='Input'),\n",
        "              encoder,  # 인코더\n",
        "              decoder])  # 디코더"
      ],
      "execution_count": null,
      "outputs": []
    },
    {
      "cell_type": "markdown",
      "metadata": {
        "id": "tMOwTyRmZ2ZA"
      },
      "source": [
        "## 학습\n",
        "- Optimizer, loss 및 모든 하이퍼파라미터를 자유롭게 조정하며 실험해보세요.\n",
        "- Optimizer 참고 자료 1 : https://www.tensorflow.org/api_docs/python/tf/keras/optimizers\n",
        "- Optimizer 참고 자료 2: https://keras.io/ko/optimizers/\n",
        "- Loss 참고자료 1: https://www.tensorflow.org/api_docs/python/tf/keras/losses\n",
        "- Loss 참고자료 2: https://keras.io/ko/losses/"
      ]
    },
    {
      "cell_type": "code",
      "metadata": {
        "ExecuteTime": {
          "end_time": "2020-09-24T13:03:08.919407Z",
          "start_time": "2020-09-24T13:02:30.562371Z"
        },
        "id": "44WPXmPjZ2ZA"
      },
      "source": [
        "# 하이퍼파라미터 설정\n",
        "optimizer = optimizers.Adam(lr=0.0005, beta_1=0.9, beta_2=0.999, epsilon=None, decay=0.0, amsgrad=False)\n",
        "epochs = 50\n",
        "batch_size = 16\n",
        "\n",
        "# 모델 컴파일(=optimizer, loss 세팅)\n",
        "autoencoder.compile(optimizer=optimizer,\n",
        "                    loss=loss)\n",
        "\n",
        "# 학습\n",
        "autoencoder.fit(x=dataset, y=dataset, epochs=epochs, batch_size=batch_size)"
      ],
      "execution_count": null,
      "outputs": []
    },
    {
      "cell_type": "markdown",
      "metadata": {
        "id": "y-KYqC8PZ2ZA"
      },
      "source": [
        "## 복원된 이미지 확인"
      ]
    },
    {
      "cell_type": "code",
      "metadata": {
        "ExecuteTime": {
          "end_time": "2020-09-24T13:03:30.029523Z",
          "start_time": "2020-09-24T13:03:29.741704Z"
        },
        "id": "-nSeW5i2Z2ZA"
      },
      "source": [
        "# 오토인코더를 통해 얻은 이미지(=복원된 이미지)\n",
        "max_len = 10  # 최대 10개의 이미지 보기\n",
        "predict = autoencoder(dataset[:max_len])\n",
        "\n",
        "# 시각화\n",
        "slider = widgets.IntSlider(min=0, max=max_len, step=1, value=0)\n",
        "interact(lambda idx: show_img(dataset[:max_len], predict.numpy(), idx), idx=slider)"
      ],
      "execution_count": null,
      "outputs": []
    },
    {
      "cell_type": "code",
      "metadata": {
        "id": "c0IcPAEjkoYW"
      },
      "source": [
        "y"
      ],
      "execution_count": null,
      "outputs": []
    },
    {
      "cell_type": "markdown",
      "metadata": {
        "id": "YAyP-F1PZ2ZB"
      },
      "source": [
        "# 클러스터링(K-means)\n",
        "- 클러스터링 기법 변경하셔도 상관 없습니다."
      ]
    },
    {
      "cell_type": "code",
      "metadata": {
        "id": "b69ZZTd7hEJ8"
      },
      "source": [
        "from sklearn import decomposition\n",
        "\n",
        "pca = decomposition.PCA(n_components=30).fit(dataset)\n",
        "dataset = pca.transform(dataset)"
      ],
      "execution_count": null,
      "outputs": []
    },
    {
      "cell_type": "markdown",
      "metadata": {
        "id": "9IpljukZZ2ZB"
      },
      "source": [
        "## Latent vector 얻기"
      ]
    },
    {
      "cell_type": "code",
      "metadata": {
        "id": "WstiS-rPZ2ZB"
      },
      "source": [
        "# Extract latent vector(mini-batch version, OOM 방지)\n",
        "batch_size = 64\n",
        "latent_vec = []\n",
        "num_batch = len(dataset) // batch_size\n",
        "\n",
        "for i in range(num_batch + 1):\n",
        "    batch_set = dataset[i * batch_size:(i + 1) * batch_size]\n",
        "    latent_vec.append(encoder(batch_set).numpy())\n",
        "\n",
        "latent_vec = np.concatenate(latent_vec, axis=0)\n",
        "\n",
        "if np.ndim(latent_vec) != 2:\n",
        "    latent_vec = np.reshape(latent_vec, [len(dataset), -1])"
      ],
      "execution_count": null,
      "outputs": []
    },
    {
      "cell_type": "markdown",
      "metadata": {
        "id": "Q9mRkE06Z2ZB"
      },
      "source": [
        "## Cluster 개수 결정"
      ]
    },
    {
      "cell_type": "code",
      "metadata": {
        "id": "2h3fIC7gZ2ZB"
      },
      "source": [
        "# Elbow method를 통해서 최적의 cluster 개수(K)를 찾아보세요.\n",
        "# K는 15이하입니다.\n",
        "# latent_vec의 크기가 클수록 런타임이 오래 걸리니 참고하세요.\n",
        "start = 1\n",
        "end = 15\n",
        "elbow_method(latent_vec, start, end)"
      ],
      "execution_count": null,
      "outputs": []
    },
    {
      "cell_type": "code",
      "metadata": {
        "id": "IzuzEizBZ2ZC"
      },
      "source": [
        "# K-Means clustering\n",
        "n_clusters = 8  # elbow method 등을 이용해서 K를 결정해보세요.\n",
        "kmeans = KMeans(n_clusters=n_clusters, init='k-means++', random_state=1207).fit(latent_vec)\n",
        "y_pred = kmeans.labels_"
      ],
      "execution_count": null,
      "outputs": []
    },
    {
      "cell_type": "code",
      "metadata": {
        "id": "PvsEWtr7eVFX"
      },
      "source": [
        "y_pred"
      ],
      "execution_count": null,
      "outputs": []
    },
    {
      "cell_type": "markdown",
      "metadata": {
        "id": "nIRghUQOZ2ZC"
      },
      "source": [
        "# 제출 파일"
      ]
    },
    {
      "cell_type": "code",
      "metadata": {
        "id": "gDQxW901Z2ZC"
      },
      "source": [
        "# 저장할 폴더 만들기\n",
        "SAVE_PATH = os.path.join(PATH, \"output\")\n",
        "if not os.path.exists(SAVE_PATH):\n",
        "  os.mkdir(SAVE_PATH)\n",
        "else:\n",
        "  pass"
      ],
      "execution_count": null,
      "outputs": []
    },
    {
      "cell_type": "code",
      "metadata": {
        "ExecuteTime": {
          "end_time": "2020-09-24T12:58:55.556369Z",
          "start_time": "2020-09-24T12:58:55.548658Z"
        },
        "id": "aYujxRXCZ2ZC"
      },
      "source": [
        "# 제출 파일 만들기\n",
        "team = \"비타맥스5\"  # 반드시 팀명을 적어주세요.\n",
        "\n",
        "# 이 밑은 수정하지 마세요.\n",
        "timestamp = datetime.today().strftime(\"%Y%m%d%H%M%S\")  # ex) timestamp 20210911131000\n",
        "sub = pd.DataFrame(y_pred, columns=[\"y_pred\"])\n",
        "sub.to_csv(os.path.join(SAVE_PATH, f\"./{team}_{timestamp}.csv\"), index=False)"
      ],
      "execution_count": null,
      "outputs": []
    }
  ]
}